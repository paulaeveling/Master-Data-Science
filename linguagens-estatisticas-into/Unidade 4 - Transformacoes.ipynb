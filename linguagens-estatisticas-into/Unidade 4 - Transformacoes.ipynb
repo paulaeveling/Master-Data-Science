{
 "cells": [
  {
   "cell_type": "markdown",
   "metadata": {},
   "source": [
    "# Funcao Apply\n",
    "\n",
    "* df eh a variavel do documento\n",
    "* funcao apply pode ser utilizada para alterar valor de um elemento\n",
    "* nao altera documento\n",
    "\n",
    "def format_species_name(val, demiliter):\n",
    "    val = val.split(delimiter)[-1]\n",
    "    val = val.title()\n",
    "    return val\n",
    "    \n",
    "df.species.apply(format_species_name, args=('-'))"
   ]
  },
  {
   "cell_type": "markdown",
   "metadata": {},
   "source": [
    "# Funcao replace\n",
    "\n",
    "* funciona somente com strings\n",
    "\n",
    "df.species.str.replace(\"Iris-\",\"\").str.title()"
   ]
  },
  {
   "cell_type": "markdown",
   "metadata": {},
   "source": [
    "# Como manipular eixo\n",
    "\n",
    "* calcular media por linha\n",
    "\n",
    "* head eh opcional e so retorna os 5 primeiros resultados por default\n",
    "df.mean(axis=1).head()\n",
    "\n",
    "* calcular media usando lambda\n",
    "* se axis = 1, formula calcula linha a linha\n",
    "* se axis = 0, formula calcula coluna a coluna\n",
    "\n",
    "df[['sepal_lenght','sepal_width','petal_lenght','petal_width']].\\\n",
    "    apply(lambda x: (x) / (x.sum()), axis=1).sum(0)"
   ]
  }
 ],
 "metadata": {
  "kernelspec": {
   "display_name": "Python 3",
   "language": "python",
   "name": "python3"
  },
  "language_info": {
   "codemirror_mode": {
    "name": "ipython",
    "version": 3
   },
   "file_extension": ".py",
   "mimetype": "text/x-python",
   "name": "python",
   "nbconvert_exporter": "python",
   "pygments_lexer": "ipython3",
   "version": "3.7.7"
  }
 },
 "nbformat": 4,
 "nbformat_minor": 4
}
