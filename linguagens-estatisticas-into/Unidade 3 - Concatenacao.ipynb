{
 "cells": [
  {
   "cell_type": "code",
   "execution_count": 25,
   "metadata": {},
   "outputs": [
    {
     "name": "stdout",
     "output_type": "stream",
     "text": [
      "a:  [1 2 3]\n",
      "b:  [4 5 6]\n",
      "c:  [7 8]\n"
     ]
    }
   ],
   "source": [
    "import numpy as np\n",
    "\n",
    "a = np.array([1,2,3])\n",
    "b = np.array([4,5,6])\n",
    "c = np.array([7, 8])\n",
    "\n",
    "print(\"a: \", a)\n",
    "print(\"b: \", b)\n",
    "print(\"c: \", c)"
   ]
  },
  {
   "cell_type": "code",
   "execution_count": 26,
   "metadata": {},
   "outputs": [
    {
     "name": "stdout",
     "output_type": "stream",
     "text": [
      "a + b:  [1 2 3 4 5 6]\n",
      "b + a:  [4 5 6 1 2 3]\n",
      "a + b + c:  [1 2 3 4 5 6 7 8]\n"
     ]
    }
   ],
   "source": [
    "# concatenar unidimensional\n",
    "print(\"a + b: \", np.concatenate((a,b)))\n",
    "print(\"b + a: \", np.concatenate((b,a)))\n",
    "print(\"a + b + c: \", np.concatenate((a,b,c)))"
   ]
  },
  {
   "cell_type": "code",
   "execution_count": 32,
   "metadata": {},
   "outputs": [
    {
     "name": "stdout",
     "output_type": "stream",
     "text": [
      "matriz d:\n",
      " [[1. 1.]\n",
      " [9. 4.]] \n",
      "\n",
      "matriz b:\n",
      " [[7. 8.]\n",
      " [5. 1.]] \n",
      "\n",
      "concatena linhas (axis=0):\n",
      " [[1. 1.]\n",
      " [9. 4.]\n",
      " [7. 8.]\n",
      " [5. 1.]] \n",
      "\n",
      "concatena colunas (axis=1):\n",
      " [[1. 1. 7. 8.]\n",
      " [9. 4. 5. 1.]] \n",
      "\n"
     ]
    }
   ],
   "source": [
    "# concatenar multidimensional\n",
    "# eixos tem que ser iguais. Se concatenar linhas, no. de linhas tem que ser iguais\n",
    "\n",
    "d = np.floor(10*np.random.random((2,2)))\n",
    "print(\"matriz d:\\n\",d,\"\\n\")\n",
    "\n",
    "e = np.floor(10*np.random.random((2,2)))\n",
    "print(\"matriz b:\\n\",e,\"\\n\")\n",
    "\n",
    "# concatena linhas \n",
    "print(\"concatena linhas (axis=0):\\n\", np.concatenate((d,e), axis=0),\"\\n\")\n",
    "\n",
    "# concatena colunas \n",
    "print(\"concatena colunas (axis=1):\\n\", np.concatenate((d,e), axis=1),\"\\n\")"
   ]
  },
  {
   "cell_type": "code",
   "execution_count": 31,
   "metadata": {},
   "outputs": [
    {
     "name": "stdout",
     "output_type": "stream",
     "text": [
      "concatena linhas vstack:\n",
      " [[7. 3.]\n",
      " [1. 5.]\n",
      " [7. 4.]\n",
      " [3. 6.]] \n",
      "\n",
      "concatena colunas hstack:\n",
      " [[7. 3. 7. 4.]\n",
      " [1. 5. 3. 6.]] \n",
      "\n"
     ]
    }
   ],
   "source": [
    "# mesma coisa que usar v ou h stack\n",
    "print(\"concatena linhas vstack:\\n\",np.vstack((d,e)),\"\\n\")\n",
    "\n",
    "print(\"concatena colunas hstack:\\n\",np.hstack((d,e)),\"\\n\")"
   ]
  },
  {
   "cell_type": "code",
   "execution_count": null,
   "metadata": {},
   "outputs": [],
   "source": []
  },
  {
   "cell_type": "code",
   "execution_count": 52,
   "metadata": {},
   "outputs": [
    {
     "name": "stdout",
     "output_type": "stream",
     "text": [
      "matriz f:\n",
      " [[1. 1.]\n",
      " [9. 4.]] \n",
      "\n",
      "id de f: 4503270944\n",
      "id de copia: 4743177360\n",
      "\n",
      " matriz f:\n",
      " [[6. 3. 3. 7.]\n",
      " [0. 9. 1. 8.]\n",
      " [2. 6. 4. 8.]\n",
      " [0. 7. 9. 5.]] \n",
      "\n",
      "id h: 4743177360\n",
      "id i: 4533195840 \n",
      "\n",
      "matriz i:\n",
      " [[3. 3.]\n",
      " [9. 1.]\n",
      " [6. 4.]\n",
      " [7. 9.]]\n"
     ]
    }
   ],
   "source": [
    "# criar copias\n",
    "f = np.floor(10*np.random.random((4,4)))\n",
    "print(\"matriz f:\\n\",d,\"\\n\")\n",
    "\n",
    "def copia(f):\n",
    "    print(\"id de copia:\",id(f.copy()))\n",
    "    \n",
    "print(\"id de f:\" ,id(f))\n",
    "copia(f)\n",
    "\n",
    "h = np.floor(10*np.random.random((4,4)))\n",
    "print(\"\\n\",\"matriz f:\\n\",h,\"\\n\")\n",
    "\n",
    "i = h[:,1:3].copy()\n",
    "print(\"id h:\",id(h))\n",
    "print(\"id i:\",id(i),\"\\n\")\n",
    "\n",
    "print(\"matriz i:\\n\",i)"
   ]
  },
  {
   "cell_type": "code",
   "execution_count": null,
   "metadata": {},
   "outputs": [],
   "source": []
  }
 ],
 "metadata": {
  "kernelspec": {
   "display_name": "Python 3",
   "language": "python",
   "name": "python3"
  },
  "language_info": {
   "codemirror_mode": {
    "name": "ipython",
    "version": 3
   },
   "file_extension": ".py",
   "mimetype": "text/x-python",
   "name": "python",
   "nbconvert_exporter": "python",
   "pygments_lexer": "ipython3",
   "version": "3.7.7"
  }
 },
 "nbformat": 4,
 "nbformat_minor": 4
}
