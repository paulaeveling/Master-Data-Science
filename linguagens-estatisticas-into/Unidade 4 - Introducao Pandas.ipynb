{
 "cells": [
  {
   "cell_type": "code",
   "execution_count": 5,
   "metadata": {},
   "outputs": [
    {
     "name": "stdout",
     "output_type": "stream",
     "text": [
      "0           7\n",
      "1    String 1\n",
      "2        3.14\n",
      "3         -10\n",
      "Name: exemplo 1, dtype: object\n"
     ]
    }
   ],
   "source": [
    "import pandas as pd\n",
    "\n",
    "a = pd.Series([7, \"String 1\", 3.14, -10],name = \"exemplo 1\")\n",
    "print(a)"
   ]
  },
  {
   "cell_type": "code",
   "execution_count": 3,
   "metadata": {},
   "outputs": [],
   "source": [
    "pd.Series?"
   ]
  },
  {
   "cell_type": "code",
   "execution_count": 12,
   "metadata": {},
   "outputs": [
    {
     "name": "stdout",
     "output_type": "stream",
     "text": [
      "A     7.00\n",
      "B    21.00\n",
      "C     3.14\n",
      "D   -10.00\n",
      "dtype: float64\n"
     ]
    }
   ],
   "source": [
    "# como alterar valor de indice para A B C D - alterar tipo de dado para float\n",
    "b = pd.Series([7, \"21\", 3.14, -10],\n",
    "             index=[\"A\",\"B\",\"C\",\"D\"],dtype = float)\n",
    "print(b)"
   ]
  },
  {
   "cell_type": "code",
   "execution_count": 20,
   "metadata": {},
   "outputs": [
    {
     "name": "stdout",
     "output_type": "stream",
     "text": [
      "Imprime indice A de lista b: 7.0\n",
      "\n",
      "Imprime indice B e D de lista b:\n",
      " B    21.0\n",
      "D   -10.0\n",
      "dtype: float64\n"
     ]
    }
   ],
   "source": [
    "# imprimir somente um valor do indice - no exemplo\n",
    "\n",
    "# imprime somente A\n",
    "print(\"Imprime indice A de lista b:\", b['A'])\n",
    "\n",
    "# imprime B eD\n",
    "print(\"\\nImprime indice B e D de lista b:\\n\", b[['B','D']])"
   ]
  },
  {
   "cell_type": "code",
   "execution_count": 37,
   "metadata": {},
   "outputs": [
    {
     "name": "stdout",
     "output_type": "stream",
     "text": [
      "[1, 2, 3, 4]\n",
      "[5, 6, 7, 8]\n",
      "\n",
      "arr1 + arr2: [6, 8, 10, 12]\n",
      "arr1 - arr2: [-4, -4, -4, -4]\n",
      "arr1 * arr2: [5, 12, 21, 32]\n",
      "arr1 / arr2: [0.2, 0.3333333333333333, 0.42857142857142855, 0.5]\n",
      "arr1 % arr2: [1, 2, 3, 4]\n",
      "arr1 ** arr2: [1, 64, 2187, 65536]\n"
     ]
    }
   ],
   "source": [
    "# Operacoes aritmeticas\n",
    "arr1 = pd.Series([1,2,3,4])\n",
    "arr2 = pd.Series([5,6,7,8])\n",
    "\n",
    "# IMPORTANTE: nomes das series devem ser iguais para fazer operacoes aritmeticas\n",
    "# por exemplo: serie A,B,C,D com serie A,B,C,D ou serie 1,2,3,4 com serie 1,2,3,4\n",
    "# so pode comparar series de indices identicos\n",
    "\n",
    "# usar to list para converter serie para lista\n",
    "print(arr1.tolist())\n",
    "print(arr2.tolist())\n",
    "\n",
    "# operacoes com arr1 e arr2\n",
    "print(\"\\narr1 + arr2: {}\".format((arr1 + arr2).tolist()))\n",
    "print(\"arr1 - arr2: {}\".format((arr1 - arr2).tolist()))\n",
    "print(\"arr1 * arr2: {}\".format((arr1 * arr2).tolist()))\n",
    "print(\"arr1 / arr2: {}\".format((arr1 / arr2).tolist()))\n",
    "print(\"arr1 % arr2: {}\".format((arr1 % arr2).tolist()))\n",
    "print(\"arr1 ** arr2: {}\".format((arr1 ** arr2).tolist()))"
   ]
  },
  {
   "cell_type": "code",
   "execution_count": 48,
   "metadata": {},
   "outputs": [
    {
     "name": "stdout",
     "output_type": "stream",
     "text": [
      "['1', '2', '3', '4']\n",
      "Soma de strings: 1234 (concatena)\n"
     ]
    }
   ],
   "source": [
    "# pandas nao soma strings!!!\n",
    "# se variaveis forem string, vai concatenar\n",
    "import numpy as np\n",
    "\n",
    "arr3 = pd.Series(['1','2','3','4'])\n",
    "\n",
    "print(arr3.tolist())\n",
    "print(\"Soma de strings:\",arr3.sum(),\"(concatena)\")"
   ]
  },
  {
   "cell_type": "code",
   "execution_count": 70,
   "metadata": {},
   "outputs": [
    {
     "name": "stdout",
     "output_type": "stream",
     "text": [
      "arr4: 0    [1, 2, 3, 4]\n",
      "1    [5, 6, 7, 8]\n",
      "dtype: object \n",
      "\n",
      "Soma arr4 elemento 1 e 2 (strings): ['1', '2', '3', '4', '5', '6', '7', '8']\n",
      "\n",
      "arr5: 0    [1, 2, 3, 4]\n",
      "1    [5, 6, 7, 8]\n",
      "dtype: object \n",
      "\n",
      "Soma arr5 elemento 1 e 2(int): [1, 2, 3, 4, 5, 6, 7, 8]\n"
     ]
    }
   ],
   "source": [
    "# concatenar elementos de arrays diferentes\n",
    "arr4 = pd.Series([['1','2','3','4'],['5','6','7','8']])\n",
    "print(\"arr4:\",arr4,\"\\n\")\n",
    "\n",
    "print(\"Soma arr4 elemento 1 e 2 (strings):\", arr4.sum())\n",
    "\n",
    "# como o mesmo codigo se comporta se elementos forem float ou int\n",
    "arr5 = pd.Series([[1,2,3,4],[5,6,7,8]])\n",
    "print(\"\\narr5:\", arr5, \"\\n\")\n",
    "\n",
    "print(\"Soma arr5 elemento 1 e 2(int):\", arr5.sum())"
   ]
  },
  {
   "cell_type": "code",
   "execution_count": 82,
   "metadata": {},
   "outputs": [
    {
     "name": "stdout",
     "output_type": "stream",
     "text": [
      "arr6: [1.0, 2.0, 3.0, nan]\n",
      "\n",
      "arr6 in bool: (para identificar nulos) [False, False, False, True]\n",
      "\n",
      "arr6 nao nulos: [1.0, 2.0, 3.0]\n",
      "\n",
      "soma lista: 6.0\n",
      "\n",
      "arr6 se nulo entao 0: [1.0, 2.0, 3.0, 0.0]\n"
     ]
    }
   ],
   "source": [
    "# tratando valores faltantes\n",
    "\n",
    "arr6 = pd.Series({'A':1,'B':2,'C':3,'D': None})\n",
    "print(\"arr6:\",arr6.tolist())\n",
    "\n",
    "print(\"\\narr6 in bool: (para identificar nulos)\", arr6.isnull().tolist())\n",
    "\n",
    "# ignorar valors nulos\n",
    "print(\"\\narr6 nao nulos:\",arr6.dropna().tolist())\n",
    "\n",
    "# somar valores da lista\n",
    "print(\"\\nsoma lista:\",np.sum(arr6))\n",
    "\n",
    "# alocar valor para nulos\n",
    "print(\"\\narr6 se nulo entao 0:\",arr6.fillna(0).tolist())"
   ]
  },
  {
   "cell_type": "code",
   "execution_count": 87,
   "metadata": {},
   "outputs": [
    {
     "name": "stdout",
     "output_type": "stream",
     "text": [
      "alteracao local: None\n",
      "\n",
      "nova arr6 [1.0, 2.0, 3.0, 19.0]\n"
     ]
    }
   ],
   "source": [
    "# IMPORTANTE:\n",
    "# valores das variaveis sao alterados usando pandas\n",
    "# por exemplo, novo valor de arr6 = 1,2,3,0 e nao 1,2,3,none como antes\n",
    "\n",
    "# como alterar valor localmente\n",
    "arr7 = pd.Series({'A':1,'B':2,'C':3,'D': None})\n",
    "\n",
    "print(\"alteracao local:\",arr7.fillna(19,inplace=True))\n",
    "print(\"\\nnova arr6\",arr7.tolist())"
   ]
  },
  {
   "cell_type": "code",
   "execution_count": null,
   "metadata": {},
   "outputs": [],
   "source": []
  }
 ],
 "metadata": {
  "kernelspec": {
   "display_name": "Python 3",
   "language": "python",
   "name": "python3"
  },
  "language_info": {
   "codemirror_mode": {
    "name": "ipython",
    "version": 3
   },
   "file_extension": ".py",
   "mimetype": "text/x-python",
   "name": "python",
   "nbconvert_exporter": "python",
   "pygments_lexer": "ipython3",
   "version": "3.7.6"
  }
 },
 "nbformat": 4,
 "nbformat_minor": 4
}
