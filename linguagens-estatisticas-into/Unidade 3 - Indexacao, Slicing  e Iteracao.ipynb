{
 "cells": [
  {
   "cell_type": "code",
   "execution_count": 39,
   "metadata": {},
   "outputs": [
    {
     "name": "stdout",
     "output_type": "stream",
     "text": [
      "[[  0   1   4   9]\n",
      " [ 16  25  36  49]\n",
      " [ 64  81 100 121]\n",
      " [144 169 196 225]]\n"
     ]
    }
   ],
   "source": [
    "# acessar posicao de dado dentro da lista\n",
    "\n",
    "import numpy as np\n",
    "\n",
    "a = (np.arange(16)**2).reshape(4,4)\n",
    "print(a)"
   ]
  },
  {
   "cell_type": "code",
   "execution_count": 10,
   "metadata": {},
   "outputs": [
    {
     "name": "stdout",
     "output_type": "stream",
     "text": [
      "Linha 0 e coluna 1:  1\n",
      "Elementos linha 0 a 2 coluna 0:  [ 0 16 64]\n",
      "Todos elementos da coluna 0:  [[  0]\n",
      " [ 16]\n",
      " [ 64]\n",
      " [144]]\n",
      "Ultima linha:  [144 169 196 225]\n"
     ]
    }
   ],
   "source": [
    "# acessar elemento dentro da lista: linha 0 coluna 1\n",
    "print(\"Linha 0 e coluna 1: \", a[0,1])\n",
    "print(\"Elementos linha 0 a 2 coluna 0: \", a[:3,0])\n",
    "print(\"Todos elementos da coluna 0: \",a[:,:1])\n",
    "print(\"Ultima linha: \", a[-1])"
   ]
  },
  {
   "cell_type": "code",
   "execution_count": 20,
   "metadata": {},
   "outputs": [
    {
     "name": "stdout",
     "output_type": "stream",
     "text": [
      "Usando ravel: [  0   1   4   9  16  25  36  49  64  81 100 121 144 169 196 225]\n",
      "Usando reshape: [  0   1   4   9  16  25  36  49  64  81 100 121 144 169 196 225]\n",
      "Transposta: [[  0  16  64 144]\n",
      " [  1  25  81 169]\n",
      " [  4  36 100 196]\n",
      " [  9  49 121 225]]\n"
     ]
    }
   ],
   "source": [
    "# manipulacao de shape\n",
    "a = ((np.arange(16))**2).reshape(4,4)\n",
    "\n",
    "# deixar lista flat - uma unica lina\n",
    "print(\"Usando ravel:\", a.ravel())\n",
    "print(\"Usando reshape:\", a.reshape(-1))\n",
    "print(\"Transposta:\", a.T)"
   ]
  },
  {
   "cell_type": "code",
   "execution_count": 77,
   "metadata": {},
   "outputs": [
    {
     "name": "stdout",
     "output_type": "stream",
     "text": [
      "Sem reshape:  [  0   1   4   9  16  25  36  49  64  81 100 121]\n",
      "Retorna posicao dos indices: [ 1  1 36  9 25]\n",
      "Retorna indice bidimensional:  [[ 1 36]\n",
      " [ 9 25]]\n",
      "\n",
      "Usando reshape: [[  0   1   4]\n",
      " [  9  16  25]\n",
      " [ 36  49  64]\n",
      " [ 81 100 121]\n",
      " [144 169 196]\n",
      " [225 256 289]\n",
      " [324 361 400]]\n",
      "\n",
      "Resultado: [  4  16 256]\n",
      "\n",
      "Exempl0 slicing:  [[  0   4]\n",
      " [  9  25]\n",
      " [ 36  64]\n",
      " [ 81 121]\n",
      " [144 196]\n",
      " [225 289]\n",
      " [324 400]]\n",
      "\n",
      "Teste:  [[  1]\n",
      " [ 16]\n",
      " [ 49]\n",
      " [100]\n",
      " [169]\n",
      " [256]\n",
      " [361]]\n"
     ]
    }
   ],
   "source": [
    "# truques de indexacao\n",
    "b = np.arange(12)**2\n",
    "print(\"Sem reshape: \",b)\n",
    "\n",
    "# retornar posicao dos elemtos\n",
    "indices = np.array([1,1,6,3,5])\n",
    "print(\"Retorna posicao dos indices:\", b[indices])\n",
    "\n",
    "# novo exemplo transformando resultado em matriz bidimensional\n",
    "novo_indice = np.array([[1,6],[3,5]])\n",
    "print(\"Retorna indice bidimensional: \", b[novo_indice])\n",
    "\n",
    "# novo exemplo\n",
    "c = (np.arange(21)**2).reshape(7,3)\n",
    "print(\"\\nUsando reshape:\", c)\n",
    "\n",
    "id_linhas = np.array([0,1,5])\n",
    "id_colunas = np.array([2,1,1])\n",
    "\n",
    "# retorna posicoes de linhas e colunas informadas acima\n",
    "print(\"\\nResultado:\", c[id_linhas, id_colunas])\n",
    "\n",
    "# exemplo com slicing - todas as linhas e colunas 0 e 2\n",
    "print(\"\\nExempl0 slicing: \",c[:,[0,2]])\n",
    "\n",
    "# teste -- imprimir todas as linhas e colunas de 1 a 2. Coluna 2 nao vai aparecer\n",
    "print(\"\\nTeste: \",c[:,1:2])"
   ]
  },
  {
   "cell_type": "code",
   "execution_count": 79,
   "metadata": {},
   "outputs": [
    {
     "name": "stdout",
     "output_type": "stream",
     "text": [
      "[[False False False]\n",
      " [False False False]\n",
      " [False False False]\n",
      " [False  True  True]\n",
      " [ True  True  True]\n",
      " [ True  True  True]\n",
      " [ True  True  True]]\n",
      "[[ 0  1  4]\n",
      " [ 9 16 25]\n",
      " [36 49 64]\n",
      " [81  0  0]\n",
      " [ 0  0  0]\n",
      " [ 0  0  0]\n",
      " [ 0  0  0]]\n"
     ]
    }
   ],
   "source": [
    "# retornar booleanos\n",
    "d = c >= 100\n",
    "print(d)\n",
    "\n",
    "# atribuicao de valores\n",
    "c[d] = 0\n",
    "print(c)"
   ]
  },
  {
   "cell_type": "code",
   "execution_count": null,
   "metadata": {},
   "outputs": [],
   "source": []
  }
 ],
 "metadata": {
  "kernelspec": {
   "display_name": "Python 3",
   "language": "python",
   "name": "python3"
  },
  "language_info": {
   "codemirror_mode": {
    "name": "ipython",
    "version": 3
   },
   "file_extension": ".py",
   "mimetype": "text/x-python",
   "name": "python",
   "nbconvert_exporter": "python",
   "pygments_lexer": "ipython3",
   "version": "3.7.7"
  }
 },
 "nbformat": 4,
 "nbformat_minor": 4
}
