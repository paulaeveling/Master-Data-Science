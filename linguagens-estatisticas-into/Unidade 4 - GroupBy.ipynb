{
 "cells": [
  {
   "cell_type": "code",
   "execution_count": null,
   "metadata": {},
   "outputs": [],
   "source": [
    "# media dos valores por grupos\n",
    "df.groupby(\"species\").mean\n",
    "df.groupby(\"species\").sum\n",
    "\n",
    "# funcoes de agregacao\n",
    "# adiciona colunas com resultados\n",
    "df.groupby(\"species\").agg(['mean','std','min','max'])\n",
    "\n",
    "# funcao agrega personalizada\n",
    "df.groupby(\"species\").agg(lambda x: x.mean())"
   ]
  }
 ],
 "metadata": {
  "kernelspec": {
   "display_name": "Python 3",
   "language": "python",
   "name": "python3"
  },
  "language_info": {
   "codemirror_mode": {
    "name": "ipython",
    "version": 3
   },
   "file_extension": ".py",
   "mimetype": "text/x-python",
   "name": "python",
   "nbconvert_exporter": "python",
   "pygments_lexer": "ipython3",
   "version": "3.7.6"
  }
 },
 "nbformat": 4,
 "nbformat_minor": 4
}
