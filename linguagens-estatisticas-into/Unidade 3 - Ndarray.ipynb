{
 "cells": [
  {
   "cell_type": "code",
   "execution_count": 27,
   "metadata": {},
   "outputs": [
    {
     "name": "stdout",
     "output_type": "stream",
     "text": [
      "EXEMPLO 1:\n",
      "array:  <class 'numpy.ndarray'> ; dimensao:  1 \n",
      "\n"
     ]
    }
   ],
   "source": [
    "import numpy as np\n",
    "\n",
    "# array 1 dimensao\n",
    "a = np.array([1,2,3,4,5,6])\n",
    "print(\"EXEMPLO 1:\\narray: \", type(a), \"; dimensao: \", a.ndim, \"\\n\")"
   ]
  },
  {
   "cell_type": "code",
   "execution_count": 32,
   "metadata": {},
   "outputs": [
    {
     "name": "stdout",
     "output_type": "stream",
     "text": [
      "EXEMPLO 2:\n",
      "array: arange + reshape: \n",
      " [[ 0  1  2  3  4]\n",
      " [ 5  6  7  8  9]\n",
      " [10 11 12 13 14]] \n",
      "dimensao:  2\n"
     ]
    }
   ],
   "source": [
    "# array 2 dimensoes\n",
    "b = np.arange(15).reshape(3,5)\n",
    "print (\"EXEMPLO 2:\\narray: arange + reshape: \\n\", b, \"\\ndimensao: \", b.ndim)"
   ]
  },
  {
   "cell_type": "code",
   "execution_count": 29,
   "metadata": {},
   "outputs": [
    {
     "name": "stdout",
     "output_type": "stream",
     "text": [
      "float64\n"
     ]
    }
   ],
   "source": [
    "# retornar tipos de elementos\n",
    "print(b.astype(float).dtype)"
   ]
  },
  {
   "cell_type": "code",
   "execution_count": 30,
   "metadata": {},
   "outputs": [
    {
     "name": "stdout",
     "output_type": "stream",
     "text": [
      "<class 'numpy.ndarray'>\n"
     ]
    }
   ],
   "source": [
    "# retornar tipo de array\n",
    "# vantagem array: calculo elemento por elemento\n",
    "print(type(a))"
   ]
  },
  {
   "cell_type": "code",
   "execution_count": 34,
   "metadata": {},
   "outputs": [
    {
     "name": "stdout",
     "output_type": "stream",
     "text": [
      "[[0. 0. 0. 0.]\n",
      " [0. 0. 0. 0.]\n",
      " [0. 0. 0. 0.]]\n"
     ]
    }
   ],
   "source": [
    "# boolean < int < float < string\n",
    "# nao esquecer colchetes\n",
    "# recebe listas\n",
    "\n",
    "print(np.zeros((3,4)))"
   ]
  },
  {
   "cell_type": "code",
   "execution_count": 3,
   "metadata": {},
   "outputs": [
    {
     "name": "stdout",
     "output_type": "stream",
     "text": [
      "[[1. 1.]\n",
      " [1. 1.]\n",
      " [1. 1.]\n",
      " [1. 1.]]\n"
     ]
    }
   ],
   "source": [
    "# sequencia de uns\n",
    "print(np.ones((4,2)))"
   ]
  },
  {
   "cell_type": "code",
   "execution_count": 36,
   "metadata": {
    "scrolled": true
   },
   "outputs": [
    {
     "name": "stdout",
     "output_type": "stream",
     "text": [
      "[[[0.0e+000 4.9e-324 9.9e-324 1.5e-323 2.0e-323 2.5e-323 3.0e-323\n",
      "   3.5e-323 4.0e-323 4.4e-323]\n",
      "  [4.9e-323 5.4e-323 5.9e-323 6.4e-323 6.9e-323 7.4e-323 7.9e-323\n",
      "   8.4e-323 8.9e-323 9.4e-323]]]\n"
     ]
    }
   ],
   "source": [
    "# evitar usar empty pq pega numeros aleatorios\n",
    "print(np.empty((1,2,10)))"
   ]
  },
  {
   "cell_type": "code",
   "execution_count": 38,
   "metadata": {},
   "outputs": [
    {
     "name": "stdout",
     "output_type": "stream",
     "text": [
      "[3.14 3.14 3.14]\n"
     ]
    }
   ],
   "source": [
    "# sequencia de numeros iguais\n",
    "print(np.ones((3))*3.14)"
   ]
  },
  {
   "cell_type": "code",
   "execution_count": 40,
   "metadata": {},
   "outputs": [
    {
     "data": {
      "text/plain": [
       "array([0.58349666, 0.43175568, 0.78610938])"
      ]
     },
     "execution_count": 40,
     "metadata": {},
     "output_type": "execute_result"
    }
   ],
   "source": [
    "# sequencia aleatoria 1 dimensao\n",
    "np.random.rand(3)"
   ]
  },
  {
   "cell_type": "code",
   "execution_count": 42,
   "metadata": {},
   "outputs": [
    {
     "data": {
      "text/plain": [
       "array([[10.95589265, 10.40323929],\n",
       "       [10.16749395, 10.24660512],\n",
       "       [10.54019051, 10.70951032]])"
      ]
     },
     "execution_count": 42,
     "metadata": {},
     "output_type": "execute_result"
    }
   ],
   "source": [
    "# sequencia aleatoria 3 linhas, 2 colunas\n",
    "10+ np.random.rand(3,2)"
   ]
  },
  {
   "cell_type": "code",
   "execution_count": 47,
   "metadata": {},
   "outputs": [
    {
     "name": "stdout",
     "output_type": "stream",
     "text": [
      "[1.  1.5 2.  2.5]\n"
     ]
    }
   ],
   "source": [
    "# imprime de 1 a 3 em intervalos de 0.5\n",
    "print(np.arange(1, 3, 0.5))"
   ]
  },
  {
   "cell_type": "code",
   "execution_count": 49,
   "metadata": {},
   "outputs": [
    {
     "name": "stdout",
     "output_type": "stream",
     "text": [
      "[ 0. 10.]\n"
     ]
    }
   ],
   "source": [
    "# imprime numeros de 0 a 10 limitando a 2 o numero de elementos\n",
    "print(np.linspace(0,10,2))"
   ]
  },
  {
   "cell_type": "code",
   "execution_count": 56,
   "metadata": {},
   "outputs": [
    {
     "name": "stdout",
     "output_type": "stream",
     "text": [
      "NUMPY MULTIPLICA: 2 * [1 2 3] = [2 4 6]\n",
      "LISTA REGULAR CONCATENA: 2 * [1, 2, 3] = [1, 2, 3, 1, 2, 3]\n"
     ]
    }
   ],
   "source": [
    "# operacoes com numpy -- MULTIPLICACAO\n",
    "a = np.array([1,2,3])\n",
    "b = 2\n",
    "\n",
    "print(\"NUMPY MULTIPLICA: {} * {} = {}\".format(b,a,b*a))\n",
    "\n",
    "# se nao usar numpy e multiplicar uma lista por um escalar, a lista vai concatenar N vezes\n",
    "c = [1,2,3]\n",
    "print(\"LISTA REGULAR CONCATENA: {} * {} = {}\".format(b,c,b*c))\n",
    "\n"
   ]
  },
  {
   "cell_type": "code",
   "execution_count": 59,
   "metadata": {},
   "outputs": [
    {
     "name": "stdout",
     "output_type": "stream",
     "text": [
      "2 + [1 2 3] = [3 4 5]\n"
     ]
    }
   ],
   "source": [
    "# operacoes com numpy -- SOMA\n",
    "print(\"{} + {} = {}\".format(b,a,b+a))"
   ]
  },
  {
   "cell_type": "code",
   "execution_count": 60,
   "metadata": {},
   "outputs": [
    {
     "name": "stdout",
     "output_type": "stream",
     "text": [
      "2 - [1 2 3] = [ 1  0 -1]\n"
     ]
    }
   ],
   "source": [
    "# operacoes com numpy -- SUBTRACAO\n",
    "print(\"{} - {} = {}\".format(b,a,b-a))"
   ]
  },
  {
   "cell_type": "code",
   "execution_count": 61,
   "metadata": {},
   "outputs": [
    {
     "name": "stdout",
     "output_type": "stream",
     "text": [
      "2 / [1 2 3] = [2.         1.         0.66666667]\n"
     ]
    }
   ],
   "source": [
    "# operacoes com numpy -- DIVISAO\n",
    "print(\"{} / {} = {}\".format(b,a,b/a))"
   ]
  },
  {
   "cell_type": "code",
   "execution_count": 62,
   "metadata": {},
   "outputs": [
    {
     "name": "stdout",
     "output_type": "stream",
     "text": [
      "2 ** [1 2 3] = [2 4 8]\n"
     ]
    }
   ],
   "source": [
    "# operacoes com numpy -- EXPONENCIACAO\n",
    "print(\"{} ** {} = {}\".format(b,a,b**a))"
   ]
  },
  {
   "cell_type": "code",
   "execution_count": 65,
   "metadata": {},
   "outputs": [
    {
     "name": "stdout",
     "output_type": "stream",
     "text": [
      "[2 4 6] ** [1 2 3] = [  2  16 216]\n"
     ]
    }
   ],
   "source": [
    "# operacoes com 2 listas\n",
    "d = np.array([2,4,6])\n",
    "e = np.array([1,2,3])\n",
    "print(\"{} ** {} = {}\".format(d,e,d**e))"
   ]
  },
  {
   "cell_type": "code",
   "execution_count": 80,
   "metadata": {},
   "outputs": [
    {
     "name": "stdout",
     "output_type": "stream",
     "text": [
      "0.3332145697578087\n"
     ]
    }
   ],
   "source": [
    "# EXERCICIO Mean Squared Error\n",
    "import math\n",
    "\n",
    "def vMSE(y_true, y_pred):\n",
    "    return np.mean((y_pred - y_true)**2)\n",
    "\n",
    "y_true = np.arange(1000000) + 1\n",
    "y_pred = y_true - np.random.rand(y_true.shape[0])\n",
    "print(vMSE(y_true, y_pred))\n",
    "\n",
    "                                 "
   ]
  },
  {
   "cell_type": "code",
   "execution_count": null,
   "metadata": {},
   "outputs": [],
   "source": []
  }
 ],
 "metadata": {
  "kernelspec": {
   "display_name": "Python 3",
   "language": "python",
   "name": "python3"
  },
  "language_info": {
   "codemirror_mode": {
    "name": "ipython",
    "version": 3
   },
   "file_extension": ".py",
   "mimetype": "text/x-python",
   "name": "python",
   "nbconvert_exporter": "python",
   "pygments_lexer": "ipython3",
   "version": "3.7.7"
  }
 },
 "nbformat": 4,
 "nbformat_minor": 4
}
