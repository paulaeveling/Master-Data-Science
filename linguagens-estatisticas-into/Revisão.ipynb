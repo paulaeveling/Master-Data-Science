{
 "cells": [
  {
   "cell_type": "markdown",
   "metadata": {},
   "source": [
    "## Unidade 1"
   ]
  },
  {
   "cell_type": "markdown",
   "metadata": {},
   "source": [
    "<h3>Variáveis</h3><br>\n",
    "- identificadores ou variáveis podem ser combinação de letras maiúsculas, minúsculas, dígitos ou underscore <br>\n",
    "- não podem iniciar com números ou conter caracters especiais <br>\n",
    "- palavras chave não podem ser utilizadas como identificadores. Exemplo: for, if <br>\n",
    "- Python <b>é case sensitive</b> <br>\n",
    "- indentação é obrigatória para definir blocos de código"
   ]
  },
  {
   "cell_type": "code",
   "execution_count": null,
   "metadata": {},
   "outputs": [],
   "source": [
    "# Variáveis\n",
    "a = 10     # int\n",
    "b = 0.5    # float\n",
    "c = \"ola\"  # str\n",
    "d = \"1.0\"  # str\n",
    "e = True   # bool\n",
    "f = None   # nulo\n",
    "\n",
    "# verificar tipo de variável\n",
    "print(type(c), isinstance(c, int))\n",
    "\n",
    "# converter variáveis\n",
    "float_to_int = int(5.3)\n",
    "str_to_int = int(\"10\")\n",
    "float_to_bool1 = bool(2.0) # qualquer valor diferente de 0 = True | qualquer string é igual true\n",
    "float_to_bool2 = bool(0.0) # único valor possível para False é 0 ou string vazia\n",
    "\n",
    "# entrada e saída\n",
    "valorA = input(\"Entre com valor A: \") # resposta do input é sempre uma string\n",
    "\n",
    "# retornar tipo da variável \n",
    "type(valorA)\n",
    "\n",
    "# imprime lista de 0 a 8, ou lista com 9 argumentos\n",
    "print(list(range(9)))"
   ]
  },
  {
   "cell_type": "markdown",
   "metadata": {},
   "source": [
    "<h3>Operadores</h3><br>"
   ]
  },
  {
   "cell_type": "code",
   "execution_count": null,
   "metadata": {},
   "outputs": [],
   "source": [
    "# operadores aritméticos\n",
    "2 + 5  # soma\n",
    "2 - 5  # subtracao\n",
    "2 / 5  # divisao\n",
    "2 * 5  # multiplicação\n",
    "4 % 3  # modulo - somente numeros inteiros\n",
    "2 ** 5 # exponenciação\n",
    "\n",
    "# operadores de atribuição\n",
    "x = 5  # x = 5\n",
    "x += 5 # x = x + 5\n",
    "x -= 5 # x = x - 5\n",
    "x *= 5 # x = x * 5\n",
    "x /= 5 # x = x / 5\n",
    "x %= 5 # x = x % 5\n",
    "\n",
    "# operadores de comparação\n",
    "x > 5  # x maior que 5\n",
    "x >= 5 # x maior ou igual a 5\n",
    "x < 5  # x menor que 5\n",
    "x <= 5 # x menor ou igual a 5\n",
    "x == 5 # x é igual a 5\n",
    "x !- 5 # x é diferente de 5\n",
    "\n",
    "# operadores booleanos\n",
    "x and y # & True se ambos forem verdadeiros\n",
    "x or y  # | True se um ou outro for verdadeiro\n",
    "x ˆ y   # ˆ True se um for verdadeiro e o outro falso\n",
    "not x   # ˜ True se valor é falso | inverte resultado -- se for verdadeiro, então falso; se falso, então verdadeiro\n",
    "\n",
    "# tabela verdade do and\n",
    "# True  x True  = True\n",
    "# False x True  = False\n",
    "# True  x False = False\n",
    "# False x False = False\n",
    "\n",
    "# tabela verdade or\n",
    "# True  x True  = True\n",
    "# False x True  = True\n",
    "# True  x False = True\n",
    "# False x False = False\n",
    "\n",
    "# tabela verdade xor\n",
    "# True  x True  = False\n",
    "# False x True  = True\n",
    "# True  x False = True\n",
    "# False x False = True"
   ]
  },
  {
   "cell_type": "markdown",
   "metadata": {},
   "source": [
    "<h3>Controle de Fluxo - if... else</h3><br>"
   ]
  },
  {
   "cell_type": "code",
   "execution_count": null,
   "metadata": {},
   "outputs": [],
   "source": [
    "# verificar se numero é positivo, negativo ou zero\n",
    "teste_positivo = int(input(\"Digite o número: \"))\n",
    "if teste_positivo == 0:\n",
    "    print(\"Número é zero.\")\n",
    "elif teste_positivo % 2 != 0:\n",
    "    print(\"Número é negativo.\")\n",
    "else:\n",
    "    print(\"Número é positivo\")"
   ]
  },
  {
   "cell_type": "code",
   "execution_count": null,
   "metadata": {},
   "outputs": [],
   "source": [
    "# imprimir maior número entre 3 opções\n",
    "valor1 = 1\n",
    "valor2 = 20\n",
    "valor3 = -10\n",
    "\n",
    "if valor1 > valor2 and valor1 > valor3:\n",
    "    print(\"valor1 é maior\")\n",
    "elif valor2 > valor1 and valor2 > valor3:\n",
    "    print(\"valor2 é maior\")\n",
    "else:\n",
    "    print(\"valor3 é maior\")"
   ]
  },
  {
   "cell_type": "markdown",
   "metadata": {},
   "source": [
    "<h3>Controle de Fluxo - for e while</h3><br>"
   ]
  },
  {
   "cell_type": "code",
   "execution_count": null,
   "metadata": {},
   "outputs": [],
   "source": [
    "# laço for\n",
    "soma = 0\n",
    "n = 10\n",
    "\n",
    "for val in range(1, n):\n",
    "    # soma = 0 + 1; soma = 1 + 2\n",
    "    soma += val\n",
    "soma"
   ]
  },
  {
   "cell_type": "code",
   "execution_count": null,
   "metadata": {},
   "outputs": [],
   "source": [
    "# laço while\n",
    "n = 10\n",
    "i = 1  # iterador\n",
    "\n",
    "while i < n:\n",
    "    soma += i\n",
    "    i += 1"
   ]
  },
  {
   "cell_type": "code",
   "execution_count": null,
   "metadata": {},
   "outputs": [],
   "source": [
    "# imprimir numeros pares em uma sequência\n",
    "\n",
    "# utilizando FOR\n",
    "soma = 0\n",
    "sequencia = 10\n",
    "\n",
    "# para cada valor em sequencia:\n",
    "for val in range(1,sequencia):\n",
    "    # se soma for par, entao imprime some\n",
    "    if soma % 2 == 0:\n",
    "       print(soma, \" \")\n",
    "    # acrescenta 1\n",
    "    soma += 1"
   ]
  },
  {
   "cell_type": "code",
   "execution_count": null,
   "metadata": {},
   "outputs": [],
   "source": [
    "# utilizando WHILE\n",
    "i = 1 # iterador\n",
    "while i < sequencia:\n",
    "    if i % 2 == 0:\n",
    "        print(i)\n",
    "    i += 1"
   ]
  },
  {
   "cell_type": "code",
   "execution_count": null,
   "metadata": {},
   "outputs": [],
   "source": [
    "# imprimir lista de -3 ate num contando de 1 em 1\n",
    "num = 3\n",
    "sequencia2 = list(range(-3, num, 1))\n",
    "for val in sequencia2:\n",
    "    print(val)"
   ]
  },
  {
   "cell_type": "markdown",
   "metadata": {},
   "source": [
    "<h3>Funções</h3><br>\n",
    "- utilizado para facilizar re-utilização de um código <br>\n",
    "- importante documentar parâmetros da função <br>\n",
    "- auxilia a criar sistemas mais complexos"
   ]
  },
  {
   "cell_type": "code",
   "execution_count": null,
   "metadata": {},
   "outputs": [],
   "source": [
    "# soma a + b utilizando função. Neste caso, ambos parâmetros são obrigatórios\n",
    "def soma(a, b):\n",
    "    \"\"\" documentação \"\"\"\n",
    "    return a + b\n",
    "\n",
    "soma(2,4)"
   ]
  },
  {
   "cell_type": "code",
   "execution_count": null,
   "metadata": {},
   "outputs": [],
   "source": [
    "# função retorna None\n",
    "def retornando_none():\n",
    "    \"\"\" função que retorna None \"\"\"\n",
    "    print(\"essa função retorna None\")\n",
    "    \n",
    "print(retornando_none())"
   ]
  },
  {
   "cell_type": "code",
   "execution_count": null,
   "metadata": {},
   "outputs": [],
   "source": [
    "# somente parâmetros A é obrigatório\n",
    "# se b não for informado, então, b = 1\n",
    "def incrementa(a, b = 1):\n",
    "    \"\"\" soma a + b. B é opcional; se vazio, então B recebe valor 1  \"\"\"\n",
    "    return a + b \n",
    "\n",
    "print(incrementa(10))\n",
    "print(incrementa(10, 2))\n",
    "\n",
    "# verificar documentação da função\n",
    "print(incrementa.__doc__)"
   ]
  },
  {
   "cell_type": "code",
   "execution_count": null,
   "metadata": {},
   "outputs": [],
   "source": [
    "# argumentos arbritários\n",
    "def ola(*nomes):\n",
    "    for nome in nomes:\n",
    "        print(\"Oi\", nome)\n",
    "\n",
    "ola(\"raphael\", \"julia\", \"carlos\")"
   ]
  },
  {
   "cell_type": "code",
   "execution_count": null,
   "metadata": {},
   "outputs": [],
   "source": [
    "# funções anônimas\n",
    "# sempre função de uma única linha, simples\n",
    "\n",
    "# a função anônima abaixo filtra números ímpares\n",
    "lista = [1, 5, 4, 6, 8, 11, 3, 12]\n",
    "filter(lambda x: x%2, lista)\n",
    "\n",
    "# filtro equivale a:\n",
    "print([l for l  in lista if l%2])"
   ]
  },
  {
   "cell_type": "code",
   "execution_count": null,
   "metadata": {},
   "outputs": [],
   "source": [
    "# a função anônima abaixo imprime valores da lista ao quadrado\n",
    "print(map(lambda x: x**2, lista))\n",
    "\n",
    "# map equivale a:\n",
    "print([l**2 for l  in lista])"
   ]
  },
  {
   "cell_type": "code",
   "execution_count": null,
   "metadata": {},
   "outputs": [],
   "source": [
    "# outras funções úteis\n",
    "\n",
    "# lower ou upper case\n",
    "nome_completo = \"Paula Eveling\"\n",
    "nome_completo.lower()\n",
    "nome_completo.upper()\n",
    "\n",
    "# imprime exatamente como está descrito\n",
    "numbers = [2, 3, 4]\n",
    "print(numbers)\n",
    "\n",
    "# mudar separador \n",
    "print(1, 2, 3, 4, sep='*')\n",
    "\n",
    "x = [2, 9, 1, 5]\n",
    "i = 1\n",
    "j = 2\n",
    "x[j] = i * 2 - x[i] ** 2\n",
    "print(x)"
   ]
  },
  {
   "cell_type": "markdown",
   "metadata": {},
   "source": [
    "## Unidade II"
   ]
  },
  {
   "cell_type": "markdown",
   "metadata": {},
   "source": [
    "<h3>Listas</h3><br>\n",
    "- utilizadas para armazenar sequência de valores<br>\n",
    "- listas são utilizadas dentro de colchetes<br>\n",
    "- normalmente indexada de 0 a n (tamanho da lista)<br>\n",
    "- lista pode conter inteiros e/ou string e/ou ponto flutuante <br>\n",
    "- listas são mutáveis, ou seja, seus valores podem ser alterados<br>\n",
    "- valores da lista são alterados dentro de funções<br>\n"
   ]
  },
  {
   "cell_type": "code",
   "execution_count": null,
   "metadata": {},
   "outputs": [],
   "source": [
    "# lista vazia\n",
    "lista = []\n",
    "\n",
    "# lista de inteiros\n",
    "lista1 = [1, 2, 3]\n",
    "\n",
    "# lista com diferentes tipos de dados\n",
    "lista2 = [1, \"Hello\", 3.4]\n",
    "\n",
    "# lista aninhada\n",
    "lista3 = [\"mouse\", [8, 4, 6], ['a']]\n",
    "\n",
    "# imprimir um elemento de uma lista\n",
    "python_var = [\"p\", \"y\", \"t\", \"h\", \"o\", \"n\"]\n",
    "\n",
    "# imprime letra p\n",
    "print(python_var[0])\n",
    "\n",
    "# imprime letra n\n",
    "print(python_var[-1])\n",
    "\n",
    "# imprime primeiro e último elementos da lista\n",
    "print(python_var[1:-1])\n",
    "\n",
    "# imprime a lista sem a última letra\n",
    "print(python_var[:-1])"
   ]
  },
  {
   "cell_type": "code",
   "execution_count": null,
   "metadata": {},
   "outputs": [],
   "source": [
    "# alterar valores de uma lista\n",
    "python_var = [\"p\", \"y\", \"t\", \"h\", \"o\", \"n\"]\n",
    "\n",
    "# altera primeira letra [0]\n",
    "python_var[0] = \"P\"\n",
    "\n",
    "# altera todos os valores para upper-case\n",
    "python_var[1:] = [v.upper() for v in python_var[1:]]\n",
    "\n",
    "# inverte valores da lista\n",
    "print(python_var[::-1])"
   ]
  },
  {
   "cell_type": "code",
   "execution_count": null,
   "metadata": {},
   "outputs": [],
   "source": [
    "# adicionar elementos\n",
    "python_var = [\"p\", \"y\", \"t\", \"h\", \"o\", \"n\"]\n",
    "\n",
    "# Adicionando um elemento ao final\n",
    "python_var.append(\"3\")\n",
    "\n",
    "# Concatenando duas listas\n",
    "print(python_var + [\".\", \"5\"])"
   ]
  },
  {
   "cell_type": "code",
   "execution_count": null,
   "metadata": {},
   "outputs": [],
   "source": [
    "# remover elementos\n",
    "python_var = [\"p\", \"y\", \"t\", \"h\", \"o\", \"n\"]\n",
    "\n",
    "# remove a letra t - element 2, ou 3 letra\n",
    "s.pop(2)\n",
    "\n",
    "# remove letra n\n",
    "s.remove(\"n\")\n",
    "\n",
    "# exclui tudo, exceto 2 primeiros elementos - saída: ['p', 'y']\n",
    "s[2:] = []"
   ]
  },
  {
   "cell_type": "code",
   "execution_count": null,
   "metadata": {},
   "outputs": [],
   "source": [
    "python_var = [\"p\", \"y\", \"t\", \"h\", \"o\", \"n\"]\n",
    "\n",
    "# verificando se elemento y encontra-se na lista\n",
    "print(\"y\" in python_var, \"r\" in python_var)\n",
    "\n",
    "if \"y\" in python_var:\n",
    "    print(\"TRUE!\")"
   ]
  },
  {
   "cell_type": "code",
   "execution_count": null,
   "metadata": {},
   "outputs": [],
   "source": [
    "# criar lista com função\n",
    "def create_list1(n):\n",
    "    return [i for i in range(n)]"
   ]
  },
  {
   "cell_type": "markdown",
   "metadata": {},
   "source": [
    "<h3>Tuplas</h3><br>\n",
    "- são similares as listas, porém são imutáveis, ou seja, não podem ser alteradas<br>\n",
    "- tuplas são colocadas entre parênteses<br>"
   ]
  },
  {
   "cell_type": "code",
   "execution_count": null,
   "metadata": {},
   "outputs": [],
   "source": [
    "# tupla vazia\n",
    "tupla = ()\n",
    "\n",
    "# tupla de inteiros\n",
    "tupla = (1, 2, 3)\n",
    "\n",
    "# tupla com diferentes tipos de dados\n",
    "tupla = (1, \"Ola\", 3.4)\n",
    "\n",
    "# tupla aninhada\n",
    "tupla = (\"mouse\", (8, 4, 6), ['a'])"
   ]
  },
  {
   "cell_type": "markdown",
   "metadata": {},
   "source": [
    "<h3>Dicionários</h3><br>\n",
    "- coleção não ordenada de elementos<br>\n",
    "- são utilizados chave para criar dicionários<br>\n",
    "- é imutável, não é possível alterar seus elementos<br>\n"
   ]
  },
  {
   "cell_type": "code",
   "execution_count": null,
   "metadata": {},
   "outputs": [],
   "source": [
    "# dicionário vazio\n",
    "dicionario = {}\n",
    "\n",
    "# dicionário normal\n",
    "dicionario = {'c': -1, 'o': 10}\n",
    "\n",
    "# dicionário com chaves e valores de tipos distintos\n",
    "dicionario ={'c': -1, (\"c\", \"c\"): 10}\n",
    "print(dicionario)"
   ]
  },
  {
   "cell_type": "code",
   "execution_count": null,
   "metadata": {},
   "outputs": [],
   "source": [
    "# acessando elementos\n",
    "dicionario = {'nome':'Raphael', 'idade': 27}\n",
    "\n",
    "# Saída: Raphael\n",
    "print(dicionario['nome'])\n",
    "\n",
    "# saída: 27\n",
    "print(dicionario.get('idade'))\n",
    "\n",
    "\n",
    "# Tentar acessar um chave que não existe lançar um erro\n",
    "# dicionario['cidade']\n",
    "# O método get contorna isso\n",
    "dicionario.get('cidade')"
   ]
  },
  {
   "cell_type": "code",
   "execution_count": null,
   "metadata": {},
   "outputs": [],
   "source": [
    "# alterando elementos\n",
    "\n",
    "dicionario = {'nome':'Raphael', 'idade': 27}\n",
    "\n",
    "# Alterando valor\n",
    "dicionario['idade'] = 30\n",
    "\n",
    "# saída: {'idade': 30, 'nome': 'Raphael'}\n",
    "print(dicionario)\n",
    "\n",
    "# Inserindo um novo valor\n",
    "dicionario['cidade'] = 'Belo Horizonte'\n",
    "\n",
    "# saída: {'idade': 30, \n",
    "#    'cidade': 'Belo Horizonte',\n",
    "#    'nome': 'Raphael'}\n",
    "print(dicionario)"
   ]
  },
  {
   "cell_type": "markdown",
   "metadata": {},
   "source": [
    "<h3>Conjuntos</h3><br>\n",
    "- coleção não ordenada de elementos<bR>\n",
    "- cada elemento é único, ou seja, não duplicado<br>\n",
    "- é imutável, não é possível ter conjuntos de listas<br>\n",
    "- conjuntos são mutáveis<br>\n",
    "    "
   ]
  },
  {
   "cell_type": "code",
   "execution_count": null,
   "metadata": {},
   "outputs": [],
   "source": [
    "# conjunto vazio\n",
    "conjunto = set()\n",
    "\n",
    "# conjunto de inteiros\n",
    "conjunto = {1, 2, 3}\n",
    "\n",
    "# conjunto de dados distintos\n",
    "conjunto = {\"mouse\", (8, 4, 6)}"
   ]
  },
  {
   "cell_type": "code",
   "execution_count": null,
   "metadata": {},
   "outputs": [],
   "source": [
    "# operações de conjuntos\n",
    "A = {1,2,3}\n",
    "B = {3,4,5,6}\n",
    "\n",
    "# união\n",
    "print(\"União:\"), (A | B, A.union(B))\n",
    "\n",
    "# interseção\n",
    "print(\"Interseção\"), (A & B, A.intersection(B))\n",
    "\n",
    "# diferença\n",
    "print(\"Dif.:\"), (A - B, A.difference(B))\n",
    "print(\"Dif.:\"), (B - A, B.difference(A))\n",
    "\n",
    "# diferença simétrica\n",
    "print(\"Dif. simétrica:\"), (A ^ B, A.symmetric_difference(B))\n",
    "\n",
    "print(\"É disjunto?\"),(A.isdisjoint(B))"
   ]
  },
  {
   "cell_type": "markdown",
   "metadata": {},
   "source": [
    "<h3>Módulos</h3><br>\n"
   ]
  },
  {
   "cell_type": "code",
   "execution_count": null,
   "metadata": {},
   "outputs": [],
   "source": [
    "# importamos o modulo\n",
    "import math\n",
    "\n",
    "# vamos utilzar a função sqrt e log\n",
    "print(math.sqrt(4))\n",
    "print(math.log(10))"
   ]
  },
  {
   "cell_type": "code",
   "execution_count": null,
   "metadata": {},
   "outputs": [],
   "source": [
    "import re\n",
    "\n",
    "string = \"5.0 + 2.0\"\n",
    "pattern = \"[1234567890]\"\n",
    "print(re.findall(pattern, string))"
   ]
  },
  {
   "cell_type": "code",
   "execution_count": null,
   "metadata": {},
   "outputs": [],
   "source": [
    "string = \"Teste de expressao regular em python.\"\n",
    "\n",
    "# search imprimiu somente expressao encontrada\n",
    "resultado = re.search('regular', string)\n",
    "print(resultado.group())\n",
    "\n",
    "# se re nao encontrar expressao, vai dar erro\n",
    "resultado = re.search('(reg)(ul)(ar)', string)\n",
    "print(\"todos os grupos: \", resultado.group(0))\n",
    "print(\"grupo 1: \", resultado.group(1))\n",
    "print(\"grupo 2: \", resultado.group(2))\n",
    "print(\"grupo 3: \", resultado.group(3))\n",
    "print(\"se nao encontrar padrao: \", re.search('nada',string))\n",
    "\n",
    "if resultado:\n",
    "    print(\"resultado encontrado\")\n",
    "else:\n",
    "    print(\"resultado nao encontrado\")\n",
    "\n",
    "# match imprimiu toda string ate encontrar 'regular'\n",
    "resultado = re.match('.*(regular)', string)\n",
    "print(\"usando match: \", resultado.group())\n",
    "\n",
    "# match imprimiu somente a expressao buscada\n",
    "print(\"resultado: \", resultado.group(1), '\\n')"
   ]
  },
  {
   "cell_type": "code",
   "execution_count": null,
   "metadata": {},
   "outputs": [],
   "source": [
    "print((1, 2) + (3, 4))"
   ]
  },
  {
   "cell_type": "code",
   "execution_count": null,
   "metadata": {},
   "outputs": [],
   "source": [
    "squares = {1:1, 2:4, 3:9, 4:16, 5:25}  \n",
    "\n",
    "print(squares.pop(4),squares)"
   ]
  },
  {
   "cell_type": "code",
   "execution_count": null,
   "metadata": {},
   "outputs": [],
   "source": [
    "language = ['P', 'y', 't', 'h', 'o', 'n']\n",
    "print(language[:-4])"
   ]
  },
  {
   "cell_type": "code",
   "execution_count": null,
   "metadata": {},
   "outputs": [],
   "source": [
    "n = [x*x for x in range(4)]\n",
    "print(n)"
   ]
  },
  {
   "cell_type": "markdown",
   "metadata": {},
   "source": [
    "## Unidade III"
   ]
  },
  {
   "cell_type": "markdown",
   "metadata": {},
   "source": [
    "<h3>Vetorizaçao Numpy</h3><br>\n",
    "\n",
    "- arte de \"se livrar\" de laços for e while no código<br>\n",
    "- vetorização torna código mais ágil<br>\n",
    "- melhora desempenho do código<br>"
   ]
  },
  {
   "cell_type": "code",
   "execution_count": 2,
   "metadata": {},
   "outputs": [
    {
     "name": "stdout",
     "output_type": "stream",
     "text": [
      "11\n",
      "[ 1 16 36]\n",
      "6.67 µs ± 871 ns per loop (mean ± std. dev. of 7 runs, 100000 loops each)\n"
     ]
    }
   ],
   "source": [
    "import numpy as np\n",
    "x = [1,4,6]\n",
    "\n",
    "# soma\n",
    "print(np.sum(x))\n",
    "\n",
    "# exponenciação\n",
    "print(np.power(x,2))\n",
    "\n",
    "# calcular tempo de execução do código\n",
    "%timeit np.sum(x)"
   ]
  },
  {
   "cell_type": "markdown",
   "metadata": {},
   "source": [
    "<h3>Ndarray</h3><br>\n",
    "- tabela de elementos indexados por uma tupla de inteiros positivos<br>\n",
    "- todos os dados devem ser do mesmo tipo, normalmente números inteiros<br>\n",
    "- hierarquia de tipos de dados (precedência): str > float > int > bool<br>\n",
    "- se um dos dados for uma string, entao todos os dados serão convertidos para string<br>"
   ]
  },
  {
   "cell_type": "code",
   "execution_count": null,
   "metadata": {},
   "outputs": [],
   "source": [
    "import numpy as np\n",
    "\n",
    "# array 1 dimensao\n",
    "a = np.array([1,2,3,4,5,6])\n",
    "print(\"EXEMPLO 1:\\narray: \", type(a), \"; dimensao: \", a.ndim, \"\\n\")"
   ]
  },
  {
   "cell_type": "code",
   "execution_count": null,
   "metadata": {},
   "outputs": [],
   "source": [
    "# array 2 dimensoes utilizando reshape\n",
    "# order do reshape: linha, coluna\n",
    "b = np.arange(15).reshape(3,5)\n",
    "print (\"EXEMPLO 2:\\narray: arange + reshape: \\n\", b, \"\\ndimensao: \", b.ndim)"
   ]
  },
  {
   "cell_type": "code",
   "execution_count": null,
   "metadata": {},
   "outputs": [],
   "source": [
    "# criando arrays\n",
    "\n",
    "# array multidimensional de 0s em 3 linhas e 4 colunas\n",
    "print(np.zeros((3,4)))\n",
    "\n",
    "# array unidimensional de 1s \n",
    "print(np.ones((3)))\n",
    "\n",
    "# array vazio\n",
    "# evitar usar empty pq pega números aleatórios (lixos)\n",
    "print(np.empty((1,2,10)))\n",
    "\n",
    "# sequencia aleatória 1 dimensão\n",
    "np.random.rand(3)\n",
    "\n",
    "# array de uma dimensão com valores únicos diferentes de 0 e 1\n",
    "print(np.ones((3))*3.14)\n",
    "\n",
    "# imprime de 1 a 3 em intervalos de 0.5\n",
    "print(np.arange(1, 3, 0.5))\n",
    "\n",
    "# array com números de 0 a 10 limitando a 2 o número de elementos\n",
    "print(np.linspace(0,10,2))"
   ]
  },
  {
   "cell_type": "code",
   "execution_count": null,
   "metadata": {},
   "outputs": [],
   "source": [
    "# operações com numpy\n",
    "\n",
    "a = np.array([1,2,3])\n",
    "\n",
    "# arrays e escalares\n",
    "b = 2\n",
    "\n",
    "print(\"{} *  {} = {}\".format(b, a, b * a))\n",
    "print(\"{} +  {} = {}\".format(b, a, b + a))\n",
    "print(\"{} -  {} = {}\".format(b, a, b - a))\n",
    "print(\"{} /  {} = {}\".format(b, a, b / a))\n",
    "print(\"{} ** {} = {}\".format(b, a, b ** a))\n",
    "\n",
    "# operações com 2 listas\n",
    "c = np.array([10, 2, 5])\n",
    "\n",
    "print(\"{} *  {} = {}\".format(a, c, a * c))\n",
    "print(\"{} +  {} = {}\".format(a, c, a + c))\n",
    "print(\"{} -  {} = {}\".format(a, c, a - c))\n",
    "print(\"{} /  {} = {}\".format(a, c, a / c))\n",
    "print(\"{} %  {} = {}\".format(a, c, a % c))\n",
    "print(\"{} ** {} = {}\".format(a, c, a ** c))\n",
    "\n",
    "# se nao usar numpy e multiplicar uma lista por um escalar, a lista vai concatenar N vezes\n",
    "d = [1,2,3]\n",
    "print(\"LISTA REGULAR CONCATENA: {} * {} = {}\".format(b,d,b*d))"
   ]
  },
  {
   "cell_type": "markdown",
   "metadata": {},
   "source": [
    "<h3>Indexação, Slicing e Iteração</h3><br>"
   ]
  },
  {
   "cell_type": "code",
   "execution_count": null,
   "metadata": {},
   "outputs": [],
   "source": [
    "import numpy as np\n",
    "\n",
    "a = (np.arange(16)**2).reshape(4,4)\n",
    "print(a)\n",
    "\n",
    "# acessar elemento dentro da lista: linha 0 coluna 1\n",
    "print(\"Linha 0 e coluna 1: \", a[0,1])\n",
    "print(\"Elementos linha 0 a 2 coluna 0: \", a[:3,0])\n",
    "print(\"Todos elementos da coluna 0: \",a[:,:1])\n",
    "print(\"Ultima linha: \", a[-1])"
   ]
  },
  {
   "cell_type": "code",
   "execution_count": null,
   "metadata": {},
   "outputs": [],
   "source": [
    "# manupulação do shape\n",
    "a = ((np.arange(16))**2).reshape(4,4)\n",
    "\n",
    "# deixar lista flat - uma unica lina\n",
    "print(\"Usando ravel:\", a.ravel())\n",
    "print(\"Usando reshape:\", a.reshape(-1))\n",
    "print(\"Transposta:\", a.T)"
   ]
  },
  {
   "cell_type": "code",
   "execution_count": null,
   "metadata": {},
   "outputs": [],
   "source": [
    "# truques de indexação\n",
    "b = np.arange(12)**2\n",
    "print(\"Sem reshape: \",b)\n",
    "\n",
    "# retornar posição dos elementos\n",
    "indices = np.array([1,1,6,3,5])\n",
    "print(\"Retorna posicao dos indices:\", b[indices])\n",
    "\n",
    "# novo exemplo transformando resultado em matriz bidimensional\n",
    "novo_indice = np.array([[1,6],[3,5]])\n",
    "print(\"Retorna indice bidimensional: \", b[novo_indice])\n",
    "\n",
    "# novo exemplo\n",
    "c = (np.arange(21)**2).reshape(7,3)\n",
    "print(\"\\nUsando reshape:\", c)\n",
    "\n",
    "id_linhas = np.array([0,1,5])\n",
    "id_colunas = np.array([2,1,1])\n",
    "\n",
    "# retorna posicoes de linhas e colunas informadas acima\n",
    "print(\"\\nResultado:\", c[id_linhas, id_colunas])\n",
    "\n",
    "# exemplo com slicing - todas as linhas e colunas 0 e 2\n",
    "print(\"\\nExempl0 slicing: \",c[:,[0,2]])\n",
    "\n",
    "# teste -- imprimir todas as linhas e colunas de 1 a 2. Coluna 2 nao vai aparecer\n",
    "print(\"\\nTeste: \",c[:,1:2])"
   ]
  },
  {
   "cell_type": "markdown",
   "metadata": {},
   "source": [
    "<h3>Concatenação</h3>"
   ]
  },
  {
   "cell_type": "code",
   "execution_count": null,
   "metadata": {},
   "outputs": [],
   "source": [
    "import numpy as np\n",
    "\n",
    "a = np.array([1,2,3])\n",
    "b = np.array([4,5,6])\n",
    "c = np.array([7, 8])\n",
    "\n",
    "print(\"a: \", a)\n",
    "print(\"b: \", b)\n",
    "print(\"c: \", c)"
   ]
  },
  {
   "cell_type": "code",
   "execution_count": null,
   "metadata": {},
   "outputs": [],
   "source": [
    "# concatenar unidimensional\n",
    "print(\"a + b: \", np.concatenate((a,b)))\n",
    "print(\"b + a: \", np.concatenate((b,a)))\n",
    "print(\"a + b + c: \", np.concatenate((a,b,c)))"
   ]
  },
  {
   "cell_type": "code",
   "execution_count": null,
   "metadata": {},
   "outputs": [],
   "source": [
    "# concatenar multidimensional\n",
    "# eixos tem que ser iguais. Se concatenar linhas, no. de linhas tem que ser iguais\n",
    "\n",
    "d = np.floor(10*np.random.random((2,2)))\n",
    "print(\"matriz d:\\n\",d,\"\\n\")\n",
    "\n",
    "e = np.floor(10*np.random.random((2,2)))\n",
    "print(\"matriz b:\\n\",e,\"\\n\")\n",
    "\n",
    "# concatena linhas \n",
    "print(\"concatena linhas (axis=0):\\n\", np.concatenate((d,e), axis=0),\"\\n\")\n",
    "\n",
    "# concatena colunas \n",
    "print(\"concatena colunas (axis=1):\\n\", np.concatenate((d,e), axis=1),\"\\n\")"
   ]
  },
  {
   "cell_type": "code",
   "execution_count": null,
   "metadata": {},
   "outputs": [],
   "source": [
    "# mesma coisa que usar v ou h stack\n",
    "print(\"concatena linhas vstack:\\n\",np.vstack((d,e)),\"\\n\")\n",
    "\n",
    "print(\"concatena colunas hstack:\\n\",np.hstack((d,e)),\"\\n\")"
   ]
  },
  {
   "cell_type": "markdown",
   "metadata": {},
   "source": [
    "<h3>Cópia</h3>"
   ]
  },
  {
   "cell_type": "code",
   "execution_count": null,
   "metadata": {},
   "outputs": [],
   "source": [
    "# criar copias\n",
    "f = np.floor(10*np.random.random((4,4)))\n",
    "print(\"matriz f:\\n\",d,\"\\n\")\n",
    "\n",
    "def copia(f):\n",
    "    print(\"id de copia:\",id(f.copy()))\n",
    "    \n",
    "print(\"id de f:\" ,id(f))\n",
    "copia(f)\n",
    "\n",
    "h = np.floor(10*np.random.random((4,4)))\n",
    "print(\"\\n\",\"matriz f:\\n\",h,\"\\n\")\n",
    "\n",
    "i = h[:,1:3].copy()\n",
    "print(\"id h:\",id(h))\n",
    "print(\"id i:\",id(i),\"\\n\")\n",
    "\n",
    "print(\"matriz i:\\n\",i)"
   ]
  },
  {
   "cell_type": "code",
   "execution_count": null,
   "metadata": {},
   "outputs": [],
   "source": [
    "import numpy as np\n",
    "series = [[23,45,12,679], [14,48,69,38]]\n",
    "new_series = np.array(series)\n",
    "print(new_series.ndim)\n",
    "print(new_series.shape)"
   ]
  },
  {
   "cell_type": "code",
   "execution_count": null,
   "metadata": {},
   "outputs": [],
   "source": [
    "import numpy as np\n",
    "dataset = np.array(['paul', 'jacob', 'vince', 'paul', 'miky', 'larence', 'warren'])\n",
    "print(dataset == 'paul')"
   ]
  },
  {
   "cell_type": "code",
   "execution_count": null,
   "metadata": {},
   "outputs": [],
   "source": [
    "import numpy as np\n",
    "\n",
    "percentiles = [98, 76.37, 55.55, 69, 88]\n",
    "first_subject = np.array(percentiles)\n",
    "print(first_subject.dtype)"
   ]
  },
  {
   "cell_type": "code",
   "execution_count": null,
   "metadata": {},
   "outputs": [],
   "source": [
    "arr = np.array([0, 1, 2, 3, 4, 5, 6, 7, 8, 9])\n",
    "arr[np.arange(0, arr.shape[0], 2)] = -1\n",
    "\n",
    "print(arr)"
   ]
  },
  {
   "cell_type": "code",
   "execution_count": null,
   "metadata": {},
   "outputs": [],
   "source": [
    "import numpy as np\n",
    "valores = np.array([80, 10, 50, 30])\n",
    "pesos = np.array([2, 5, 1, 1])\n",
    "print(np.sum(valores * pesos) / valores.shape[0])"
   ]
  },
  {
   "cell_type": "code",
   "execution_count": null,
   "metadata": {},
   "outputs": [],
   "source": [
    "arr = np.array([80, 10, 50, 30])\n",
    "\n",
    "def normaliza(arr):\n",
    "    return arr / arr.min()\n",
    "\n",
    "print(normaliza(arr))"
   ]
  },
  {
   "cell_type": "code",
   "execution_count": null,
   "metadata": {},
   "outputs": [],
   "source": [
    "import pandas as pd\n",
    "s1 = pd.Series([1, 2, 3, 4])\n",
    "s2 = pd.Series([4, 3, 2, 1], index=[2, 3, 4, 5])\n",
    "\n",
    "print((s1 + s2).tolist())"
   ]
  },
  {
   "cell_type": "code",
   "execution_count": null,
   "metadata": {},
   "outputs": [],
   "source": [
    "import pandas as pd\n",
    "s = pd.Series([7, '53', 3.14, -1789710578, '4,3'], dtype=float)\n",
    "print(s[1])"
   ]
  },
  {
   "cell_type": "code",
   "execution_count": 1,
   "metadata": {},
   "outputs": [
    {
     "name": "stdout",
     "output_type": "stream",
     "text": [
      "9\n"
     ]
    }
   ],
   "source": [
    "x = range(7)\n",
    "soma = sum(filter(lambda x_i: x_i % 2 == 1, x))\n",
    "print(soma)"
   ]
  },
  {
   "cell_type": "code",
   "execution_count": 2,
   "metadata": {},
   "outputs": [
    {
     "name": "stdout",
     "output_type": "stream",
     "text": [
      "[2, 3, 1, 5]\n"
     ]
    }
   ],
   "source": [
    "x = [2, 9, 1, 5]\n",
    "i = 1\n",
    "j = 2\n",
    "x[i] = j * 2 - x[j] ** 2\n",
    "print(x)"
   ]
  },
  {
   "cell_type": "code",
   "execution_count": 3,
   "metadata": {},
   "outputs": [
    {
     "name": "stdout",
     "output_type": "stream",
     "text": [
      "10\n",
      "1\n"
     ]
    }
   ],
   "source": [
    "def func():\n",
    "    x = 10\n",
    "    print(x)\n",
    "\n",
    "x = 1\n",
    "func()\n",
    "print(x)"
   ]
  },
  {
   "cell_type": "code",
   "execution_count": 20,
   "metadata": {},
   "outputs": [
    {
     "data": {
      "text/plain": [
       "array([1, 3, 5, 7, 9])"
      ]
     },
     "execution_count": 20,
     "metadata": {},
     "output_type": "execute_result"
    }
   ],
   "source": [
    "import numpy as np\n",
    "arr = np.array([0, 1, 2, 3, 4, 5, 6, 7, 8, 9])\n",
    "arr[1::2]"
   ]
  },
  {
   "cell_type": "code",
   "execution_count": null,
   "metadata": {},
   "outputs": [],
   "source": []
  }
 ],
 "metadata": {
  "kernelspec": {
   "display_name": "Python 3",
   "language": "python",
   "name": "python3"
  },
  "language_info": {
   "codemirror_mode": {
    "name": "ipython",
    "version": 3
   },
   "file_extension": ".py",
   "mimetype": "text/x-python",
   "name": "python",
   "nbconvert_exporter": "python",
   "pygments_lexer": "ipython3",
   "version": "3.7.7"
  }
 },
 "nbformat": 4,
 "nbformat_minor": 4
}
