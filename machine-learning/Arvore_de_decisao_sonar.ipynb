{
 "cells": [
  {
   "cell_type": "markdown",
   "metadata": {
    "colab_type": "text",
    "id": "1MsOiuBgAvBy"
   },
   "source": [
    "# Árvore de decisão\n",
    "\n",
    "\n",
    "Ilustra o funcionamento do algoritmo de árvore de decisão com dados contínuos.\n",
    "\n",
    "Este notebook foi desenvolvido para o ambiente GOOGLE COLAB ([colab.research.google.com](https://colab.research.google.com)).\n",
    "\n",
    "Prof. Hugo de Paula\n",
    "\n",
    "-------------------------------------------------------------------------------\n",
    "\n",
    "### Base de dados: Sonar, Mines vs. Rocks\n",
    "\n",
    "https://archive.ics.uci.edu/ml/datasets/Connectionist+Bench+%28Sonar,+Mines+vs.+Rocks%29\n",
    "\n",
    "208 instâncias\n",
    "\n",
    "60 atributos\n",
    "\n",
    "2 classes (rocha, mina)\n",
    "\n"
   ]
  },
  {
   "cell_type": "code",
   "execution_count": null,
   "metadata": {
    "colab": {},
    "colab_type": "code",
    "id": "OwXOcJUaTV-I"
   },
   "outputs": [],
   "source": [
    "!pip install pydotplus\n",
    "!pip install dtreeviz"
   ]
  },
  {
   "cell_type": "code",
   "execution_count": null,
   "metadata": {
    "colab": {},
    "colab_type": "code",
    "id": "PDVQg6ZJ_WXn"
   },
   "outputs": [],
   "source": [
    "import pandas as pd\n",
    "import numpy as np\n",
    "from sklearn import datasets, tree\n",
    "\n",
    "# funcao que permite partir base de dados em treinamento e teste\n",
    "from sklearn.model_selection import train_test_split\n",
    "\n",
    "# modelo que vai ser treinado\n",
    "from sklearn.tree import DecisionTreeClassifier\n",
    "\n",
    "# calcula acuracia do modelo e relatorio de recall, precision e FScore\n",
    "from sklearn.metrics import accuracy_score, classification_report, confusion_matrix\n",
    "from sklearn.feature_extraction import DictVectorizer\n",
    "\n",
    "# permite transformar string em classe binaria\n",
    "from sklearn.preprocessing import LabelEncoder\n",
    "\n",
    "from google.colab import files\n",
    "uploaded = files.upload()\n"
   ]
  },
  {
   "cell_type": "markdown",
   "metadata": {
    "colab_type": "text",
    "id": "A46kV4VTA_la"
   },
   "source": [
    "### Carga dos dados e particionamento das bases de treinamento e teste\n",
    "\n",
    "### Transformação de dados\n",
    "\n",
    "A classe é convertida para labels únicos sequenciais.\n",
    "\n",
    "<code>\n",
    " le = preprocessing.LabelEncoder()\n",
    "  \n",
    " le.fit(dados)\n",
    "</code>\n",
    "\n",
    "\n",
    "### Particionamento da base\n",
    "\n",
    "<code>train_test_split(X, y) -- particiona a base de dados original em bases de treinamento e teste.</code>\n",
    "\n",
    "No código a seguir, são utilizados 10% para teste e 90% para treinamento.\n",
    "\n",
    "\n",
    "\n",
    "\n",
    "\n"
   ]
  },
  {
   "cell_type": "code",
   "execution_count": null,
   "metadata": {
    "colab": {},
    "colab_type": "code",
    "id": "pQzY_XVp__pZ"
   },
   "outputs": [],
   "source": [
    "# leitura da base de dados e estatistica \n",
    "# console descreve dimensao da base\n",
    "# descricao estatistica de cada atributo\n",
    "# nao existe dado omisso (count), o que e bom\n",
    "sonar = pd.read_excel('sonar.xlsx', sheet_name=0) \n",
    "print(\"\\nDimensões: {0}\".format(sonar.shape))\n",
    "print(\"\\nCampos: {0}\".format(sonar.keys()))\n",
    "print(sonar.describe(), sep='\\n')\n",
    "\n",
    "# binalizar a classe\n",
    "# iloc permite slicing\n",
    "X = sonar.iloc[:,0:(sonar.shape[1] - 1)]\n",
    "\n",
    "# pegar classe nao binaria\n",
    "# transformar coluna, codificar coluna\n",
    "le = LabelEncoder()\n",
    "y = le.fit_transform(sonar.iloc[:,(sonar.shape[1] - 1)])\n",
    "\n",
    "# Particiona a base de dados e gerar 4 atributos\n",
    "# random_state = 0 para sempre iniciar da mesma forma\n",
    "# 75% treinamento, 25% teste\n",
    "X_train, X_test, y_train, y_test = train_test_split(X, y, random_state=0, test_size=0.1)\n",
    "\n",
    "\n"
   ]
  },
  {
   "cell_type": "markdown",
   "metadata": {
    "colab_type": "text",
    "id": "kg3Fr_1XAoKi"
   },
   "source": [
    "### Indução do Modelo\n",
    "\n",
    "\n",
    "Os três passos para indução de um modelo são:\n",
    "\n",
    "1.   Instanciar o modelo: ``` DecisionTreeClassifier()```\n",
    "2.   Treinar o modelo: ```fit()```\n",
    "3.   Testar o modelo: ```predict()```\n",
    "\n"
   ]
  },
  {
   "cell_type": "code",
   "execution_count": null,
   "metadata": {
    "colab": {},
    "colab_type": "code",
    "id": "Fo2oEQF40BfK"
   },
   "outputs": [],
   "source": [
    "# induzir classe de decisao\n",
    "# entropia: ganho da informacao\n",
    "sonar_tree = DecisionTreeClassifier(random_state=0, criterion='entropy')\n",
    "# comando fit treina\n",
    "sonar_tree = sonar_tree.fit(X_train, y_train)\n",
    "# calculo acuracia\n",
    "print(\"Acurácia (base de treinamento):\", sonar_tree.score(X_train, y_train))\n",
    "\n",
    "# tem que dar mesmo resultado de score do de cima\n",
    "# utiliza teste para predicao\n",
    "y_pred = sonar_tree.predict(X_test)\n",
    "print(\"Acurácia de previsão:\", accuracy_score(y_test, y_pred))\n",
    "print(classification_report(y_test, y_pred, target_names=[\"Mina\", \"Rocha\"]))\n",
    "\n",
    "# quando se usa teste e treinamento, acuracia tende a cair\n",
    "#\n",
    "\n",
    "cnf_matrix = confusion_matrix(y_test, y_pred)\n",
    "cnf_table = pd.DataFrame(data=cnf_matrix, index=[\"Mina\", \"Rocha\"], columns=[\"Mina (prev)\", \"Rocha (prev)\"])\n",
    "print(cnf_table)\n",
    "\n"
   ]
  },
  {
   "cell_type": "markdown",
   "metadata": {
    "colab_type": "text",
    "id": "f2HUb-V-ihZt"
   },
   "source": [
    "### Exibição da árvore de decisão"
   ]
  },
  {
   "cell_type": "code",
   "execution_count": null,
   "metadata": {
    "colab": {},
    "colab_type": "code",
    "id": "x-yvOCPzBl_d"
   },
   "outputs": [],
   "source": [
    "from dtreeviz.trees import *\n",
    "\n",
    "viz = dtreeviz(sonar_tree,\n",
    "              X_train,\n",
    "              y_train,\n",
    "              target_name=\"Classe\",\n",
    "              feature_names=np.arange(0,60),\n",
    "              class_names=[\"mina\", \"rocha\"])  \n",
    "\n",
    "viz.view()"
   ]
  },
  {
   "cell_type": "code",
   "execution_count": null,
   "metadata": {
    "colab": {},
    "colab_type": "code",
    "id": "V_A92_qYTCkY"
   },
   "outputs": [],
   "source": [
    "import pydotplus \n",
    "# Create DOT data\n",
    "dot_data = tree.export_graphviz(sonar_tree, out_file=None, \n",
    "                                proportion=False,\n",
    "                                rounded =True,\n",
    "                                filled=True,\n",
    "                                feature_names=np.arange(0,60),  \n",
    "                                class_names=[\"mina\", \"rocha\"])\n",
    "\n",
    "# Draw graph\n",
    "graph = pydotplus.graph_from_dot_data(dot_data)  \n",
    "\n",
    "# Show graph\n",
    "Image(graph.create_png())\n"
   ]
  }
 ],
 "metadata": {
  "colab": {
   "collapsed_sections": [],
   "name": "Arvore de decisao-sonar.ipynb",
   "provenance": [],
   "version": "0.3.2"
  },
  "kernelspec": {
   "display_name": "Python 3",
   "language": "python",
   "name": "python3"
  },
  "language_info": {
   "codemirror_mode": {
    "name": "ipython",
    "version": 3
   },
   "file_extension": ".py",
   "mimetype": "text/x-python",
   "name": "python",
   "nbconvert_exporter": "python",
   "pygments_lexer": "ipython3",
   "version": "3.7.7"
  }
 },
 "nbformat": 4,
 "nbformat_minor": 1
}
